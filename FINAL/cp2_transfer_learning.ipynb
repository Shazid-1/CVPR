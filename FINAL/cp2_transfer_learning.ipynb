{
  "cells": [
    {
      "cell_type": "code",
      "execution_count": 10,
      "metadata": {},
      "outputs": [],
      "source": [
        "TRAIN_DIR = \"D:\\Spring23\\CVPR[B]\\Assignment\\Final/1/train\"\n",
        "TEST_DIR = \"D:\\Spring23\\CVPR[B]\\Assignment\\Final/1/test\""
      ]
    },
    {
      "cell_type": "code",
      "execution_count": 3,
      "metadata": {
        "id": "6SuYl96_18Ym"
      },
      "outputs": [],
      "source": [
        "import tensorflow as tf\n",
        "from tensorflow.keras.preprocessing.image import ImageDataGenerator\n",
        "from tensorflow.keras.callbacks import LearningRateScheduler\n",
        "from tensorflow.keras.callbacks import EarlyStopping\n",
        "import glob as gb\n",
        "import seaborn as sns\n",
        "import os\n",
        "import cv2\n",
        "import numpy as np\n",
        "import matplotlib.pyplot as plt\n"
      ]
    },
    {
      "cell_type": "code",
      "execution_count": 33,
      "metadata": {
        "id": "h9DxqT3V2XZF"
      },
      "outputs": [],
      "source": [
        "IMG_SIZE = 128\n",
        "SEED = 1000\n",
        "BATCH_SIZE = 16"
      ]
    },
    {
      "cell_type": "code",
      "execution_count": 22,
      "metadata": {
        "colab": {
          "base_uri": "https://localhost:8080/",
          "height": 469
        },
        "id": "ewVfqebU3PLq",
        "outputId": "298a93e4-bc60-4d3a-c981-b8c65e9327a0"
      },
      "outputs": [
        {
          "name": "stdout",
          "output_type": "stream",
          "text": [
            "D:\\Spring23\\CVPR[B]\\Assignment\\Final/1/train//without_mask/*.jpg\n",
            "D:\\Spring23\\CVPR[B]\\Assignment\\Final/1/train//with_mask/*.jpg\n"
          ]
        },
        {
          "data": {
            "image/png": "[encoded data removed]",
            "text/plain": [
              "<Figure size 640x480 with 1 Axes>"
            ]
          },
          "metadata": {},
          "output_type": "display_data"
        },
        {
          "name": "stdout",
          "output_type": "stream",
          "text": [
            "0\n"
          ]
        }
      ],
      "source": [
        "categories = []\n",
        "class_count = []\n",
        "train_exm = 0\n",
        "for f in os.listdir(TRAIN_DIR):\n",
        "    files = gb.glob(pathname=str(TRAIN_DIR  + '//' + f + '/*.jpg'))     # glob is not working\n",
        "    categories.append(f)\n",
        "    print(str(TRAIN_DIR  + '//' + f + '/*.jpg'))\n",
        "    class_count.append(len(files))\n",
        "    train_exm += len(files)\n",
        "\n",
        "sns.barplot(x=categories, y=class_count).set_title(\"distribution of train data\")\n",
        "\n",
        "plt.show()\n",
        "print(train_exm)\n"
      ]
    },
    {
      "cell_type": "code",
      "execution_count": 12,
      "metadata": {
        "id": "eN5FeZgN3wuU"
      },
      "outputs": [],
      "source": [
        "train_gen = ImageDataGenerator(\n",
        "    rotation_range = 30,\n",
        "    width_shift_range = 0.1,\n",
        "    height_shift_range = 0.1,\n",
        "    horizontal_flip = True,\n",
        "    validation_split = 0.2,\n",
        "    preprocessing_function = tf.keras.applications.vgg16.preprocess_input\n",
        "    # dtype = tf.float32\n",
        ")\n",
        "\n",
        "test_gen = ImageDataGenerator(\n",
        "    preprocessing_function = tf.keras.applications.vgg16.preprocess_input\n",
        "    # dtype = tf.float32\n",
        ")\n"
      ]
    },
    {
      "cell_type": "code",
      "execution_count": 34,
      "metadata": {
        "colab": {
          "base_uri": "https://localhost:8080/"
        },
        "id": "RRK0fiDI6vHV",
        "outputId": "a16144e2-e026-4cba-d040-16c03e5dc445"
      },
      "outputs": [
        {
          "name": "stdout",
          "output_type": "stream",
          "text": [
            "Found 1078 images belonging to 2 classes.\n",
            "Found 268 images belonging to 2 classes.\n",
            "Found 194 images belonging to 2 classes.\n"
          ]
        }
      ],
      "source": [
        "train_batch = train_gen.flow_from_directory(\n",
        "    directory=TRAIN_DIR,\n",
        "    target_size = (IMG_SIZE, IMG_SIZE),\n",
        "    batch_size = BATCH_SIZE,\n",
        "    class_mode = 'sparse',\n",
        "    subset = 'training',\n",
        "    seed = SEED\n",
        ")\n",
        "valid_batch = train_gen.flow_from_directory(\n",
        "    directory=TRAIN_DIR,\n",
        "    target_size = (IMG_SIZE, IMG_SIZE),\n",
        "    batch_size = BATCH_SIZE,\n",
        "    class_mode = 'sparse',\n",
        "    subset = 'validation',\n",
        "    seed = SEED\n",
        ")\n",
        "test_batch = test_gen.flow_from_directory(\n",
        "    directory=TEST_DIR,\n",
        "    target_size = (IMG_SIZE, IMG_SIZE),\n",
        "    batch_size = BATCH_SIZE,\n",
        "    class_mode = 'sparse',\n",
        "    seed = SEED\n",
        ")"
      ]
    },
    {
      "cell_type": "code",
      "execution_count": 35,
      "metadata": {
        "colab": {
          "base_uri": "https://localhost:8080/"
        },
        "id": "VTYB-f6sIlIk",
        "outputId": "023695e8-68bb-421e-ce6b-5d4f786fea70"
      },
      "outputs": [
        {
          "name": "stdout",
          "output_type": "stream",
          "text": [
            "Model: \"vgg16\"\n",
            "_________________________________________________________________\n",
            " Layer (type)                Output Shape              Param #   \n",
            "=================================================================\n",
            " input_8 (InputLayer)        [(None, 128, 128, 3)]     0         \n",
            "                                                                 \n",
            " block1_conv1 (Conv2D)       (None, 128, 128, 64)      1792      \n",
            "                                                                 \n",
            " block1_conv2 (Conv2D)       (None, 128, 128, 64)      36928     \n",
            "                                                                 \n",
            " block1_pool (MaxPooling2D)  (None, 64, 64, 64)        0         \n",
            "                                                                 \n",
            " block2_conv1 (Conv2D)       (None, 64, 64, 128)       73856     \n",
            "                                                                 \n",
            " block2_conv2 (Conv2D)       (None, 64, 64, 128)       147584    \n",
            "                                                                 \n",
            " block2_pool (MaxPooling2D)  (None, 32, 32, 128)       0         \n",
            "                                                                 \n",
            " block3_conv1 (Conv2D)       (None, 32, 32, 256)       295168    \n",
            "                                                                 \n",
            " block3_conv2 (Conv2D)       (None, 32, 32, 256)       590080    \n",
            "                                                                 \n",
            " block3_conv3 (Conv2D)       (None, 32, 32, 256)       590080    \n",
            "                                                                 \n",
            " block3_pool (MaxPooling2D)  (None, 16, 16, 256)       0         \n",
            "                                                                 \n",
            " block4_conv1 (Conv2D)       (None, 16, 16, 512)       1180160   \n",
            "                                                                 \n",
            " block4_conv2 (Conv2D)       (None, 16, 16, 512)       2359808   \n",
            "                                                                 \n",
            " block4_conv3 (Conv2D)       (None, 16, 16, 512)       2359808   \n",
            "                                                                 \n",
            " block4_pool (MaxPooling2D)  (None, 8, 8, 512)         0         \n",
            "                                                                 \n",
            " block5_conv1 (Conv2D)       (None, 8, 8, 512)         2359808   \n",
            "                                                                 \n",
            " block5_conv2 (Conv2D)       (None, 8, 8, 512)         2359808   \n",
            "                                                                 \n",
            " block5_conv3 (Conv2D)       (None, 8, 8, 512)         2359808   \n",
            "                                                                 \n",
            " block5_pool (MaxPooling2D)  (None, 4, 4, 512)         0         \n",
            "                                                                 \n",
            "=================================================================\n",
            "Total params: 14,714,688\n",
            "Trainable params: 14,714,688\n",
            "Non-trainable params: 0\n",
            "_________________________________________________________________\n"
          ]
        }
      ],
      "source": [
        "img_shape = (IMG_SIZE, IMG_SIZE) + (3,)\n",
        "base_model = tf.keras.applications.VGG16(input_shape=img_shape, include_top=False,  weights='imagenet')\n",
        "base_model.summary()"
      ]
    },
    {
      "cell_type": "code",
      "execution_count": 36,
      "metadata": {
        "colab": {
          "base_uri": "https://localhost:8080/"
        },
        "id": "xe7NnyzlJ9lh",
        "outputId": "9fdfdc1b-d7a6-49cb-92b9-b1e9fe256391"
      },
      "outputs": [
        {
          "name": "stdout",
          "output_type": "stream",
          "text": [
            "Model: \"model_2\"\n",
            "_________________________________________________________________\n",
            " Layer (type)                Output Shape              Param #   \n",
            "=================================================================\n",
            " input_9 (InputLayer)        [(None, 128, 128, 3)]     0         \n",
            "                                                                 \n",
            " vgg16 (Functional)          (None, 4, 4, 512)         14714688  \n",
            "                                                                 \n",
            " global_average_pooling2d_3   (None, 512)              0         \n",
            " (GlobalAveragePooling2D)                                        \n",
            "                                                                 \n",
            " dense_8 (Dense)             (None, 512)               262656    \n",
            "                                                                 \n",
            " dropout_6 (Dropout)         (None, 512)               0         \n",
            "                                                                 \n",
            " dense_9 (Dense)             (None, 256)               131328    \n",
            "                                                                 \n",
            " dropout_7 (Dropout)         (None, 256)               0         \n",
            "                                                                 \n",
            " dense_10 (Dense)            (None, 128)               32896     \n",
            "                                                                 \n",
            " dropout_8 (Dropout)         (None, 128)               0         \n",
            "                                                                 \n",
            " dense_11 (Dense)            (None, 5)                 645       \n",
            "                                                                 \n",
            "=================================================================\n",
            "Total params: 15,142,213\n",
            "Trainable params: 15,142,213\n",
            "Non-trainable params: 0\n",
            "_________________________________________________________________\n"
          ]
        }
      ],
      "source": [
        "inputs = tf.keras.Input(shape=(IMG_SIZE,IMG_SIZE, 3))\n",
        "x = base_model(inputs, training=True)\n",
        "x = tf.keras.layers.GlobalAveragePooling2D()(x)\n",
        "x = tf.keras.layers.Dense(512, activation='relu')(x)\n",
        "x = tf.keras.layers.Dropout(0.2)(x)\n",
        "x = tf.keras.layers.Dense(256, activation='relu')(x)\n",
        "x = tf.keras.layers.Dropout(0.2)(x)\n",
        "x = tf.keras.layers.Dense(128, activation='relu')(x)\n",
        "x = tf.keras.layers.Dropout(0.2)(x)\n",
        "output = tf.keras.layers.Dense(5, activation='softmax')(x)\n",
        "\n",
        "model = tf.keras.Model(inputs, output)\n",
        "model.summary()"
      ]
    },
    {
      "cell_type": "code",
      "execution_count": 25,
      "metadata": {
        "id": "izDp5oSSM8Q4"
      },
      "outputs": [],
      "source": [
        "model.compile(\n",
        "    optimizer = tf.keras.optimizers.Adam(learning_rate=0.001),\n",
        "    loss= tf.keras.losses.sparse_categorical_crossentropy,\n",
        "    metrics=['accuracy']\n",
        ")"
      ]
    },
    {
      "cell_type": "code",
      "execution_count": 20,
      "metadata": {
        "colab": {
          "base_uri": "https://localhost:8080/",
          "height": 397
        },
        "id": "nUYPwCW1OCTf",
        "outputId": "bdc7ba1a-7868-49da-bc1b-e37049b18a0e"
      },
      "outputs": [
        {
          "name": "stdout",
          "output_type": "stream",
          "text": [
            "67/67 [==============================] - 110s 2s/step - loss: 0.8302 - accuracy: 0.5085 - val_loss: 0.6710 - val_accuracy: 0.6562\n"
          ]
        }
      ],
      "source": [
        "# Training of base_model = False\n",
        "h = model.fit(\n",
        "    train_batch,\n",
        "    steps_per_epoch = 1078 // BATCH_SIZE,\n",
        "    validation_data=valid_batch,\n",
        "    validation_steps=268  // BATCH_SIZE,\n",
        ")"
      ]
    },
    {
      "cell_type": "code",
      "execution_count": 26,
      "metadata": {},
      "outputs": [
        {
          "name": "stdout",
          "output_type": "stream",
          "text": [
            "67/67 [==============================] - 110s 2s/step - loss: 3.2087 - accuracy: 0.5179 - val_loss: 0.6727 - val_accuracy: 0.5547\n"
          ]
        }
      ],
      "source": [
        "# Training of base_model = True\n",
        "h2 = model.fit(\n",
        "    train_batch,\n",
        "    steps_per_epoch = 1078 // BATCH_SIZE,\n",
        "    validation_data=valid_batch,\n",
        "    validation_steps=268  // BATCH_SIZE,\n",
        ")"
      ]
    },
    {
      "attachments": {},
      "cell_type": "markdown",
      "metadata": {},
      "source": [
        "### After training a dataset with MobileNet, two validation accuracies were obtained. The first accuracy, obtained through freezed base model, was 65%. This means that MobileNet was trained with pre-existing weights and only the top layers were trained on the specific dataset. On the other hand, the second accuracy, obtained through unfreezed base model, was 55%. This means that all layers in MobileNet were trained on the specific dataset. The difference in accuracies between the two methods can be attributed to overfitting, where the model may have memorized the training data too well and failed to generalize to new data."
      ]
    }
  ],
  "metadata": {
    "accelerator": "GPU",
    "colab": {
      "provenance": []
    },
    "gpuClass": "standard",
    "kernelspec": {
      "display_name": "Python 3",
      "name": "python3"
    },
    "language_info": {
      "codemirror_mode": {
        "name": "ipython",
        "version": 3
      },
      "file_extension": ".py",
      "mimetype": "text/x-python",
      "name": "python",
      "nbconvert_exporter": "python",
      "pygments_lexer": "ipython3",
      "version": "3.9.16"
    }
  },
  "nbformat": 4,
  "nbformat_minor": 0
}
